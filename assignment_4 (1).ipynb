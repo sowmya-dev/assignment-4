{
  "nbformat": 4,
  "nbformat_minor": 0,
  "metadata": {
    "colab": {
      "name": "assignment 4.ipynb",
      "provenance": [],
      "collapsed_sections": []
    },
    "kernelspec": {
      "name": "python3",
      "display_name": "Python 3"
    }
  },
  "cells": [
    {
      "cell_type": "code",
      "metadata": {
        "id": "dZ5Gm2y1uk0c",
        "colab": {
          "base_uri": "https://localhost:8080/"
        },
        "outputId": "54290ce0-2d3a-4d5f-8900-70f8baa229ad"
      },
      "source": [
        "class Area():\n",
        "  def __init__(self,a,b,c):\n",
        "    self.a=float(a)\n",
        "    self.b=float(b)\n",
        "    self.c=float(c)\n",
        "a=int(input(\"a=\"))\n",
        "b=int(input(\"b=\"))\n",
        "c=int(input(\"c=\"))\n"
      ],
      "execution_count": 63,
      "outputs": [
        {
          "output_type": "stream",
          "text": [
            "a=3\n",
            "b=4\n",
            "c=5\n"
          ],
          "name": "stdout"
        }
      ]
    },
    {
      "cell_type": "code",
      "metadata": {
        "id": "PMFCCBTmnucJ"
      },
      "source": [
        "class ATriangle(Area):\n",
        "  def __init__(self,a,b,c):\n",
        "    super().__init__(a,b,c)\n",
        "  def final_area(self):\n",
        "    \n",
        "    s = (a + b + c) /2\n",
        "    return (s*(s-a)*(s-b)*(s-c))**0.5"
      ],
      "execution_count": 64,
      "outputs": []
    },
    {
      "cell_type": "code",
      "metadata": {
        "id": "itYvJ4otofk6",
        "colab": {
          "base_uri": "https://localhost:8080/"
        },
        "outputId": "7127f113-8b83-4406-c22c-e52d71f0782f"
      },
      "source": [
        "ob=ATriangle(a,b,c)\n",
        "print(ob.final_area())"
      ],
      "execution_count": 65,
      "outputs": [
        {
          "output_type": "stream",
          "text": [
            "6.0\n"
          ],
          "name": "stdout"
        }
      ]
    },
    {
      "cell_type": "code",
      "metadata": {
        "id": "Z5n1FCdzopVZ"
      },
      "source": [
        ""
      ],
      "execution_count": null,
      "outputs": []
    },
    {
      "cell_type": "markdown",
      "metadata": {
        "id": "UEJXarFUwqMC"
      },
      "source": [
        "1.2"
      ]
    },
    {
      "cell_type": "code",
      "metadata": {
        "id": "-cFsrnEe0R7g"
      },
      "source": [
        "def filter_long_words(a,n):\n",
        "  b=[]\n",
        "  for i in a:\n",
        "    if len(i)>n:\n",
        "      b.append(i)\n",
        "  return b\n"
      ],
      "execution_count": null,
      "outputs": []
    },
    {
      "cell_type": "code",
      "metadata": {
        "id": "qyrusOHk0SSG",
        "colab": {
          "base_uri": "https://localhost:8080/"
        },
        "outputId": "8a47ec4e-8da7-4264-af49-41a7e2ef2815"
      },
      "source": [
        "filter_long_words(['a','ab','abc','abcd','abcdefg'],3)"
      ],
      "execution_count": null,
      "outputs": [
        {
          "output_type": "execute_result",
          "data": {
            "text/plain": [
              "['abcd', 'abcdefg']"
            ]
          },
          "metadata": {
            "tags": []
          },
          "execution_count": 18
        }
      ]
    },
    {
      "cell_type": "markdown",
      "metadata": {
        "id": "dQ3uZa4uwt3H"
      },
      "source": [
        "2.1"
      ]
    },
    {
      "cell_type": "code",
      "metadata": {
        "id": "tZx4nOhA0OHR"
      },
      "source": [
        "def length(a):\n",
        "  b=[]\n",
        "  #print(a)\n",
        "  for i in a:\n",
        "    b.append(len(i))\n",
        "  return b"
      ],
      "execution_count": null,
      "outputs": []
    },
    {
      "cell_type": "code",
      "metadata": {
        "id": "RncgGCifzrp-",
        "colab": {
          "base_uri": "https://localhost:8080/"
        },
        "outputId": "942f08c9-e040-4d6d-aaed-c2cddd7d2791"
      },
      "source": [
        "length(['ab','a','abcd'])"
      ],
      "execution_count": null,
      "outputs": [
        {
          "output_type": "execute_result",
          "data": {
            "text/plain": [
              "[2, 1, 4]"
            ]
          },
          "metadata": {
            "tags": []
          },
          "execution_count": 15
        }
      ]
    },
    {
      "cell_type": "markdown",
      "metadata": {
        "id": "bfJyEJZgwxAB"
      },
      "source": [
        "2.2"
      ]
    },
    {
      "cell_type": "code",
      "metadata": {
        "id": "hbZBQgzIw1eT"
      },
      "source": [
        "def vowel(a):\n",
        "  if a in ['a','e','i','o','u']:\n",
        "    return True\n",
        "  else:\n",
        "    return False\n"
      ],
      "execution_count": null,
      "outputs": []
    },
    {
      "cell_type": "code",
      "metadata": {
        "id": "Nwbr2htAzRQj",
        "colab": {
          "base_uri": "https://localhost:8080/"
        },
        "outputId": "4d85b0b3-4c8d-476e-f3d2-16edb5a3f42d"
      },
      "source": [
        "vowel('b')"
      ],
      "execution_count": null,
      "outputs": [
        {
          "output_type": "execute_result",
          "data": {
            "text/plain": [
              "False"
            ]
          },
          "metadata": {
            "tags": []
          },
          "execution_count": 4
        }
      ]
    },
    {
      "cell_type": "code",
      "metadata": {
        "id": "oBWxp42TzTGM",
        "colab": {
          "base_uri": "https://localhost:8080/"
        },
        "outputId": "d32d07e3-4513-4600-9e24-5c2e1fdc3ee7"
      },
      "source": [
        "vowel('i')"
      ],
      "execution_count": null,
      "outputs": [
        {
          "output_type": "execute_result",
          "data": {
            "text/plain": [
              "True"
            ]
          },
          "metadata": {
            "tags": []
          },
          "execution_count": 5
        }
      ]
    },
    {
      "cell_type": "code",
      "metadata": {
        "id": "K4zAhWxOzVJS"
      },
      "source": [
        ""
      ],
      "execution_count": null,
      "outputs": []
    }
  ]
}